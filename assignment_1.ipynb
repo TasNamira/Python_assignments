{
 "cells": [
  {
   "cell_type": "markdown",
   "metadata": {},
   "source": [
    "1. Write a program that swaps the values of two variables."
   ]
  },
  {
   "cell_type": "code",
   "execution_count": 9,
   "metadata": {},
   "outputs": [
    {
     "name": "stdout",
     "output_type": "stream",
     "text": [
      "20 10\n"
     ]
    }
   ],
   "source": [
    "x=10\n",
    "y=20\n",
    "temp=x\n",
    "x=y\n",
    "y=temp\n",
    "print(x,y)"
   ]
  },
  {
   "cell_type": "markdown",
   "metadata": {},
   "source": [
    "2. Write a program that calculates the area of a rectangle given its length and width."
   ]
  },
  {
   "cell_type": "code",
   "execution_count": 11,
   "metadata": {},
   "outputs": [
    {
     "name": "stdout",
     "output_type": "stream",
     "text": [
      "Area of a rectangle is: 28.0\n"
     ]
    }
   ],
   "source": [
    "x=float(input(\"Enter the length:\"))\n",
    "y=float(input(\"Enter the width:\"))\n",
    "area = x*y\n",
    "print(\"Area of a rectangle is:\",area)"
   ]
  },
  {
   "cell_type": "markdown",
   "metadata": {},
   "source": [
    "3. Write a program that converts temperature from Fahrenheit to Celsius."
   ]
  },
  {
   "cell_type": "code",
   "execution_count": 15,
   "metadata": {},
   "outputs": [
    {
     "name": "stdout",
     "output_type": "stream",
     "text": [
      "Temperature from Fahrenheit to Celsius is: 0.0\n"
     ]
    }
   ],
   "source": [
    "temp=float(input(\"Enter the temperatur:\"))\n",
    "print(\"Temperature from Fahrenheit to Celsius is:\",(temp-32)*(5/9))"
   ]
  },
  {
   "cell_type": "markdown",
   "metadata": {},
   "source": [
    "4. Write a program that calculates the volume of a sphere given its radius."
   ]
  },
  {
   "cell_type": "code",
   "execution_count": 17,
   "metadata": {},
   "outputs": [
    {
     "name": "stdout",
     "output_type": "stream",
     "text": [
      "the volume of a sphere: 113.09759999999997\n"
     ]
    }
   ],
   "source": [
    "radius=float(input(\"Enter the radius:\"))\n",
    "volume=(4/3)*3.1416*radius*radius*radius\n",
    "print(\"the volume of a sphere:\",volume)"
   ]
  },
  {
   "cell_type": "markdown",
   "metadata": {},
   "source": [
    "5. Write a program that finds the average of three numbers."
   ]
  },
  {
   "cell_type": "code",
   "execution_count": 18,
   "metadata": {},
   "outputs": [
    {
     "name": "stdout",
     "output_type": "stream",
     "text": [
      "Average of three number is: 4.0\n"
     ]
    }
   ],
   "source": [
    "a=float(input(\"first:\"))\n",
    "b=float(input(\"second:\"))\n",
    "c=float(input(\"third\"))\n",
    "avg=(a+b+c)/3\n",
    "print(\"Average of three number is:\",avg)"
   ]
  },
  {
   "cell_type": "markdown",
   "metadata": {},
   "source": [
    "6. Write a program that determines if a number is even or odd."
   ]
  },
  {
   "cell_type": "code",
   "execution_count": 20,
   "metadata": {},
   "outputs": [
    {
     "name": "stdout",
     "output_type": "stream",
     "text": [
      "The number is even\n"
     ]
    }
   ],
   "source": [
    "a=int(input(\"Enter any number:\"))\n",
    "if a%2==0:\n",
    "    print(\"The number is even\")\n",
    "else :\n",
    "    print(\"The number is odd\")    \n"
   ]
  },
  {
   "cell_type": "markdown",
   "metadata": {},
   "source": [
    "7. Write a program that finds the maximum of three numbers."
   ]
  },
  {
   "cell_type": "code",
   "execution_count": 22,
   "metadata": {},
   "outputs": [
    {
     "name": "stdout",
     "output_type": "stream",
     "text": [
      "a is the maximum number: 10\n"
     ]
    }
   ],
   "source": [
    "a=int(input(\"First:\"))\n",
    "b=int(input(\"Second:\"))\n",
    "c=int(input(\"Third:\"))\n",
    "if a>b and a>c:\n",
    "    print(\"a is the maximum number:\",a)\n",
    "elif b>a and b>c:\n",
    "    print(\"b is the maximum number:\",b)\n",
    "\n",
    "else:\n",
    "    print(\"c is the maximum number:\")"
   ]
  },
  {
   "cell_type": "markdown",
   "metadata": {},
   "source": [
    "8. Write a program that determines if a year is a leap year or not."
   ]
  },
  {
   "cell_type": "code",
   "execution_count": 24,
   "metadata": {},
   "outputs": [
    {
     "name": "stdout",
     "output_type": "stream",
     "text": [
      "The year is not a leap year\n"
     ]
    }
   ],
   "source": [
    "year=int(input(\"Enter the year:\"))\n",
    "if year%4==0:\n",
    "    print(\"The year is a leap year\")\n",
    "elif year%100==0 and year%400==0:\n",
    "     print(\"The year is a leap year\")\n",
    "else:\n",
    "    print(\"The year is not a leap year\")\n"
   ]
  },
  {
   "cell_type": "markdown",
   "metadata": {},
   "source": [
    "9. Write a program that determines if a number is positive, negative, or zero."
   ]
  },
  {
   "cell_type": "code",
   "execution_count": 29,
   "metadata": {},
   "outputs": [
    {
     "name": "stdout",
     "output_type": "stream",
     "text": [
      "its a negative number -2\n"
     ]
    }
   ],
   "source": [
    "a=int(input(\"Enter any number\"))\n",
    "if a>0:\n",
    "    print(\"its a positive number\",a)\n",
    "elif a<0:\n",
    "    print(\"its a negative number\",a)\n",
    "else:\n",
    "    print(\"its a zero\",a)"
   ]
  },
  {
   "cell_type": "markdown",
   "metadata": {},
   "source": [
    "10. Write a program that calculates the grade based on a given percentage."
   ]
  },
  {
   "cell_type": "code",
   "execution_count": 32,
   "metadata": {},
   "outputs": [
    {
     "name": "stdout",
     "output_type": "stream",
     "text": [
      "Grade is A 75.0\n"
     ]
    }
   ],
   "source": [
    "res=float(input(\"Enter your result:\"))\n",
    "if res>=80:\n",
    "    print(\"Grade is A+\",res)\n",
    "elif res>=70 and res<=79:\n",
    "    print(\"Grade is A\",res)\n",
    "elif res>=60 and res<=69:\n",
    "     print(\"Grade is A-\",res)\n",
    "elif res>=50 and res<=59:\n",
    "     print(\"Grade is B\",res)\n",
    "elif res>=40 and res<=49:\n",
    "     print(\"Grade is C\",res)\n",
    "elif res>=33 and res<=39:\n",
    "      print(\"Grade is D\",res)\n",
    "else:\n",
    "     print(\"Fail\")"
   ]
  },
  {
   "cell_type": "markdown",
   "metadata": {},
   "source": [
    "11. Write a program that prints the first `n` natural numbers."
   ]
  },
  {
   "cell_type": "code",
   "execution_count": 37,
   "metadata": {},
   "outputs": [
    {
     "name": "stdout",
     "output_type": "stream",
     "text": [
      "1\n",
      "2\n",
      "3\n",
      "4\n",
      "5\n"
     ]
    }
   ],
   "source": [
    "num=int(input(\"Enter any number:\"))\n",
    "for i in range(1,num+1):\n",
    "    print(i)\n"
   ]
  },
  {
   "cell_type": "markdown",
   "metadata": {},
   "source": [
    "12. Write a program that calculates the factorial of a number."
   ]
  },
  {
   "cell_type": "code",
   "execution_count": 42,
   "metadata": {},
   "outputs": [
    {
     "name": "stdout",
     "output_type": "stream",
     "text": [
      "The factorial of the num is: 24\n"
     ]
    }
   ],
   "source": [
    "num = int(input(\"Enter any number\"))\n",
    "fact=1\n",
    "for i in range(1,num+1):\n",
    "    fact=fact*i\n",
    "print(\"The factorial of the num is:\",fact)\n"
   ]
  },
  {
   "cell_type": "markdown",
   "metadata": {},
   "source": [
    "13. Write a program that generates a Fibonacci sequence of length `n`."
   ]
  },
  {
   "cell_type": "code",
   "execution_count": 5,
   "metadata": {},
   "outputs": [
    {
     "name": "stdout",
     "output_type": "stream",
     "text": [
      "0\n",
      "1\n",
      "1\n",
      "2\n",
      "3\n"
     ]
    }
   ],
   "source": [
    "num = int(input(\"eneter any number:\"))\n",
    "fibo1=0\n",
    "fibo2=1\n",
    "print(fibo1)\n",
    "print(fibo2)\n",
    "for i in range(num-2):\n",
    "    fibo3=fibo1+fibo2\n",
    "    print(fibo3)\n",
    "    fibo1=fibo2\n",
    "    fibo2=fibo3\n"
   ]
  },
  {
   "cell_type": "markdown",
   "metadata": {},
   "source": [
    "14. Write a program that checks if a given number is prime or not."
   ]
  },
  {
   "cell_type": "code",
   "execution_count": 10,
   "metadata": {},
   "outputs": [
    {
     "name": "stdout",
     "output_type": "stream",
     "text": [
      "Its a Prime number\n"
     ]
    }
   ],
   "source": [
    "num=int(input(\"enter any number:\"))\n",
    "if(num==0 and num==1):\n",
    "    print(\"Not a Prime number\")\n",
    "elif(num==2 or num%2==1):\n",
    "    print(\"Its a Prime number\")\n",
    "else:\n",
    "    print(\"Not a prime number\")\n",
    "\n"
   ]
  },
  {
   "cell_type": "markdown",
   "metadata": {},
   "source": [
    "15. Write a program that prints the multiplication table of a given number."
   ]
  },
  {
   "cell_type": "code",
   "execution_count": 13,
   "metadata": {},
   "outputs": [
    {
     "name": "stdout",
     "output_type": "stream",
     "text": [
      "4 x 1 = 4\n",
      "4 x 2 = 8\n",
      "4 x 3 = 12\n",
      "4 x 4 = 16\n",
      "4 x 5 = 20\n",
      "4 x 6 = 24\n",
      "4 x 7 = 28\n",
      "4 x 8 = 32\n",
      "4 x 9 = 36\n",
      "4 x 10 = 40\n"
     ]
    }
   ],
   "source": [
    "num=int(input(\"Give a number:\"))\n",
    "for i in range(1,11):\n",
    "    print(num,\"x\",i,\"=\",num*i)"
   ]
  },
  {
   "cell_type": "markdown",
   "metadata": {},
   "source": [
    "16. Write a program that finds the sum of all even numbers between 1 and `n`."
   ]
  },
  {
   "cell_type": "code",
   "execution_count": 20,
   "metadata": {},
   "outputs": [
    {
     "name": "stdout",
     "output_type": "stream",
     "text": [
      "Sum of the numbers: 20\n"
     ]
    }
   ],
   "source": [
    "num=int(input(\"Enter the number:\"))\n",
    "sum=0\n",
    "for i in range(2,num+1,2):\n",
    "    sum=sum+i\n",
    "print(\"Sum of the numbers:\",sum)\n",
    "    "
   ]
  },
  {
   "cell_type": "markdown",
   "metadata": {},
   "source": [
    "17. Write a program that reverses a given number."
   ]
  },
  {
   "cell_type": "code",
   "execution_count": 27,
   "metadata": {},
   "outputs": [
    {
     "name": "stdout",
     "output_type": "stream",
     "text": [
      "Reverse of the given number is: 4321\n"
     ]
    }
   ],
   "source": [
    "num=int(input(\"Give a number:\"))\n",
    "rev =0\n",
    "while num>0:\n",
    "    rem = num%10\n",
    "    rev = rev*10+rem\n",
    "    num=num//10\n",
    "print(\"Reverse of the given number is:\",rev)"
   ]
  },
  {
   "cell_type": "markdown",
   "metadata": {},
   "source": [
    "18. Write a program that checks if a given string, is a palindrome."
   ]
  },
  {
   "cell_type": "code",
   "execution_count": 29,
   "metadata": {},
   "outputs": [
    {
     "name": "stdout",
     "output_type": "stream",
     "text": [
      "Its a Palindrome\n"
     ]
    }
   ],
   "source": [
    "str=input(\"Enter any string:\")\n",
    "if str==str[::-1]:\n",
    "    print(\"Its a Palindrome\")\n",
    "else:\n",
    "    print(\"Its not a Palindrome\")\n"
   ]
  },
  {
   "cell_type": "markdown",
   "metadata": {},
   "source": [
    "19. Write a program that generates a random number and allows the user to guess it."
   ]
  },
  {
   "cell_type": "code",
   "execution_count": 35,
   "metadata": {},
   "outputs": [
    {
     "name": "stdout",
     "output_type": "stream",
     "text": [
      "Guess Higher Please\n",
      "Guess Lower Please\n",
      "Guess Lower Please\n",
      "Guess Higher Please\n",
      "Right Guess  62\n"
     ]
    }
   ],
   "source": [
    "import random\n",
    "target = random.randint(1,100)\n",
    "while True:\n",
    "    guess=int(input(\"Guess value:\"))\n",
    "    if guess==target:\n",
    "        print(\"Right Guess \",target)\n",
    "        break\n",
    "    elif guess>target:\n",
    "        print(\"Guess Lower Please\")\n",
    "    else:\n",
    "        print(\"Guess Higher Please\")    "
   ]
  },
  {
   "cell_type": "markdown",
   "metadata": {},
   "source": [
    "20. Write a program that finds the greatest common divisor (GCD) of two numbers."
   ]
  },
  {
   "cell_type": "code",
   "execution_count": 37,
   "metadata": {},
   "outputs": [
    {
     "name": "stdout",
     "output_type": "stream",
     "text": [
      "6\n"
     ]
    }
   ],
   "source": [
    "num1=int(input(\"First number:\"))\n",
    "num2=int(input(\"Second number:\"))\n",
    "if num1<num2:\n",
    "    small=num1\n",
    "else:\n",
    "    small=num2\n",
    "for i in range(1,small+1):\n",
    "    if(num1%i==0) and (num2%i==0):\n",
    "        gcd=i\n",
    "print(gcd)"
   ]
  }
 ],
 "metadata": {
  "kernelspec": {
   "display_name": "Python 3",
   "language": "python",
   "name": "python3"
  },
  "language_info": {
   "codemirror_mode": {
    "name": "ipython",
    "version": 3
   },
   "file_extension": ".py",
   "mimetype": "text/x-python",
   "name": "python",
   "nbconvert_exporter": "python",
   "pygments_lexer": "ipython3",
   "version": "3.12.2"
  }
 },
 "nbformat": 4,
 "nbformat_minor": 2
}
